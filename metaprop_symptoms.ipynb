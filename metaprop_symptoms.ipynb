{
 "cells": [
  {
   "cell_type": "code",
   "execution_count": 1,
   "metadata": {},
   "outputs": [
    {
     "name": "stderr",
     "output_type": "stream",
     "text": [
      "Loading 'meta' package (version 6.1-0).\n",
      "Type 'help(meta)' for a brief overview.\n",
      "Readers of 'Meta-Analysis with R (Use R!)' should install\n",
      "older version of 'meta' package: https://tinyurl.com/dt4y5drs\n",
      "\n",
      "Loading required package: Matrix\n",
      "\n",
      "Loading required package: metadat\n",
      "\n",
      "\n",
      "Loading the 'metafor' package (version 3.8-1). For an\n",
      "introduction to the package please type: help(metafor)\n",
      "\n",
      "\n",
      "\n",
      "Attaching package: 'dplyr'\n",
      "\n",
      "\n",
      "The following objects are masked from 'package:stats':\n",
      "\n",
      "    filter, lag\n",
      "\n",
      "\n",
      "The following objects are masked from 'package:base':\n",
      "\n",
      "    intersect, setdiff, setequal, union\n",
      "\n",
      "\n",
      "\n",
      "Attaching package: 'gridExtra'\n",
      "\n",
      "\n",
      "The following object is masked from 'package:dplyr':\n",
      "\n",
      "    combine\n",
      "\n",
      "\n"
     ]
    }
   ],
   "source": [
    "## Load packages\n",
    "library(meta)\n",
    "library(metafor)\n",
    "library(ggplot2)\n",
    "library(dplyr)\n",
    "library(gridExtra)\n",
    "library(magrittr)\n",
    "library(ggrepel)"
   ]
  },
  {
   "cell_type": "code",
   "execution_count": 2,
   "metadata": {},
   "outputs": [],
   "source": [
    "library(openxlsx)"
   ]
  },
  {
   "cell_type": "code",
   "execution_count": 20,
   "metadata": {
    "scrolled": true
   },
   "outputs": [
    {
     "data": {
      "text/html": [
       "<table class=\"dataframe\">\n",
       "<caption>A data.frame: 6 × 27</caption>\n",
       "<thead>\n",
       "\t<tr><th></th><th scope=col>Study_ID</th><th scope=col>Author</th><th scope=col>Title</th><th scope=col>Exclude原因</th><th scope=col>其他原因(自填)</th><th scope=col>observations</th><th scope=col>Fever_37.3up</th><th scope=col>Fever_38up</th><th scope=col>Fever_39up</th><th scope=col>Fever</th><th scope=col>⋯</th><th scope=col>Headache</th><th scope=col>Nausea</th><th scope=col>Diarrhea</th><th scope=col>setting</th><th scope=col>Ethics</th><th scope=col>Date_first_time</th><th scope=col>Date_last</th><th scope=col>age_mean</th><th scope=col>age_median</th><th scope=col>X27</th></tr>\n",
       "\t<tr><th></th><th scope=col>&lt;chr&gt;</th><th scope=col>&lt;chr&gt;</th><th scope=col>&lt;chr&gt;</th><th scope=col>&lt;dbl&gt;</th><th scope=col>&lt;chr&gt;</th><th scope=col>&lt;dbl&gt;</th><th scope=col>&lt;dbl&gt;</th><th scope=col>&lt;dbl&gt;</th><th scope=col>&lt;dbl&gt;</th><th scope=col>&lt;dbl&gt;</th><th scope=col>⋯</th><th scope=col>&lt;dbl&gt;</th><th scope=col>&lt;dbl&gt;</th><th scope=col>&lt;dbl&gt;</th><th scope=col>&lt;chr&gt;</th><th scope=col>&lt;chr&gt;</th><th scope=col>&lt;chr&gt;</th><th scope=col>&lt;dbl&gt;</th><th scope=col>&lt;chr&gt;</th><th scope=col>&lt;chr&gt;</th><th scope=col>&lt;chr&gt;</th></tr>\n",
       "</thead>\n",
       "<tbody>\n",
       "\t<tr><th scope=row>1</th><td>SRMA-20-1</td><td>lo il, lio cf, cheong hh, et al.  </td><td>Evaluation of SARS‐CoV‐2 RNA shedding in clinical specimens and clinical characteristics of 10 patients with COVID‐19 in Macau.</td><td>NA</td><td>NA</td><td> 10</td><td> 8</td><td>NA</td><td>NA</td><td>  8</td><td>⋯</td><td>NA</td><td> 5</td><td>NA</td><td>Cohort             </td><td>Macau</td><td>43851</td><td>43877</td><td>NA</td><td>54  </td><td>NA</td></tr>\n",
       "\t<tr><th scope=row>2</th><td>SRMA-20-3</td><td>cai q, huang d, ou p.             </td><td>COVID‐19 in a designated infectious diseases\n",
       "hospital outside Hubei Province, China                                           </td><td>NA</td><td>NA</td><td>298</td><td>NA</td><td>NA</td><td>NA</td><td>218</td><td>⋯</td><td> 5</td><td>NA</td><td> 9</td><td>Cohort             </td><td>China</td><td>43841</td><td>43867</td><td>NA</td><td>47.5</td><td>NA</td></tr>\n",
       "\t<tr><th scope=row>3</th><td>SRMA-20-4</td><td>chen d, li x, song q, et al.      </td><td>Assessment of hypokalemia and clinical\n",
       "characteristics in patients with coronavirus disease 2019 in Wenzhou,\n",
       "China           </td><td>NA</td><td>NA</td><td>175</td><td>NA</td><td>NA</td><td>NA</td><td> 71</td><td>⋯</td><td>NA</td><td>NA</td><td>35</td><td>Cohort             </td><td>China</td><td>43841</td><td>43876</td><td>45</td><td>NA  </td><td>NA</td></tr>\n",
       "\t<tr><th scope=row>4</th><td>SRMA-20-5</td><td>chen g, wu d, guo w, et al.       </td><td>Clinical and immunological features of\n",
       "severe and moderate coronavirus disease 2019                                           </td><td>NA</td><td>NA</td><td> 21</td><td> 1</td><td>12</td><td> 7</td><td> 20</td><td>⋯</td><td> 2</td><td>NA</td><td> 4</td><td>Cohort             </td><td>China</td><td>43830</td><td>43857</td><td>NA</td><td>56  </td><td>NA</td></tr>\n",
       "\t<tr><th scope=row>5</th><td>SRMA-20-6</td><td>chen j, qi t, liu l, et al.       </td><td>Clinical progression of patients with\n",
       "COVID‐19 in Shanghai, China.                                                            </td><td>NA</td><td>NA</td><td>249</td><td>NA</td><td>NA</td><td>NA</td><td>217</td><td>⋯</td><td>28</td><td>NA</td><td> 8</td><td>single-center study</td><td>China</td><td>43850</td><td>43867</td><td>NA</td><td>51  </td><td>NA</td></tr>\n",
       "\t<tr><th scope=row>6</th><td>SRMA-20-9</td><td>chen s, prettner k, kuhn m, et al.</td><td>Caution: clinical characteristics of\n",
       "COVID‐19 patients are changing at admission                                              </td><td>NA</td><td>NA</td><td> 89</td><td>NA</td><td>NA</td><td>NA</td><td> 40</td><td>⋯</td><td>NA</td><td> 2</td><td> 5</td><td>Cohort             </td><td>China</td><td>43846</td><td>43859</td><td>33</td><td>NA  </td><td>NA</td></tr>\n",
       "</tbody>\n",
       "</table>\n"
      ],
      "text/latex": [
       "A data.frame: 6 × 27\n",
       "\\begin{tabular}{r|lllllllllllllllllllll}\n",
       "  & Study\\_ID & Author & Title & Exclude原因 & 其他原因(自填) & observations & Fever\\_37.3up & Fever\\_38up & Fever\\_39up & Fever & ⋯ & Headache & Nausea & Diarrhea & setting & Ethics & Date\\_first\\_time & Date\\_last & age\\_mean & age\\_median & X27\\\\\n",
       "  & <chr> & <chr> & <chr> & <dbl> & <chr> & <dbl> & <dbl> & <dbl> & <dbl> & <dbl> & ⋯ & <dbl> & <dbl> & <dbl> & <chr> & <chr> & <chr> & <dbl> & <chr> & <chr> & <chr>\\\\\n",
       "\\hline\n",
       "\t1 & SRMA-20-1 & lo il, lio cf, cheong hh, et al.   & Evaluation of SARS‐CoV‐2 RNA shedding in clinical specimens and clinical characteristics of 10 patients with COVID‐19 in Macau. & NA & NA &  10 &  8 & NA & NA &   8 & ⋯ & NA &  5 & NA & Cohort              & Macau & 43851 & 43877 & NA & 54   & NA\\\\\n",
       "\t2 & SRMA-20-3 & cai q, huang d, ou p.              & COVID‐19 in a designated infectious diseases\n",
       "hospital outside Hubei Province, China                                            & NA & NA & 298 & NA & NA & NA & 218 & ⋯ &  5 & NA &  9 & Cohort              & China & 43841 & 43867 & NA & 47.5 & NA\\\\\n",
       "\t3 & SRMA-20-4 & chen d, li x, song q, et al.       & Assessment of hypokalemia and clinical\n",
       "characteristics in patients with coronavirus disease 2019 in Wenzhou,\n",
       "China            & NA & NA & 175 & NA & NA & NA &  71 & ⋯ & NA & NA & 35 & Cohort              & China & 43841 & 43876 & 45 & NA   & NA\\\\\n",
       "\t4 & SRMA-20-5 & chen g, wu d, guo w, et al.        & Clinical and immunological features of\n",
       "severe and moderate coronavirus disease 2019                                            & NA & NA &  21 &  1 & 12 &  7 &  20 & ⋯ &  2 & NA &  4 & Cohort              & China & 43830 & 43857 & NA & 56   & NA\\\\\n",
       "\t5 & SRMA-20-6 & chen j, qi t, liu l, et al.        & Clinical progression of patients with\n",
       "COVID‐19 in Shanghai, China.                                                             & NA & NA & 249 & NA & NA & NA & 217 & ⋯ & 28 & NA &  8 & single-center study & China & 43850 & 43867 & NA & 51   & NA\\\\\n",
       "\t6 & SRMA-20-9 & chen s, prettner k, kuhn m, et al. & Caution: clinical characteristics of\n",
       "COVID‐19 patients are changing at admission                                               & NA & NA &  89 & NA & NA & NA &  40 & ⋯ & NA &  2 &  5 & Cohort              & China & 43846 & 43859 & 33 & NA   & NA\\\\\n",
       "\\end{tabular}\n"
      ],
      "text/markdown": [
       "\n",
       "A data.frame: 6 × 27\n",
       "\n",
       "| <!--/--> | Study_ID &lt;chr&gt; | Author &lt;chr&gt; | Title &lt;chr&gt; | Exclude原因 &lt;dbl&gt; | 其他原因(自填) &lt;chr&gt; | observations &lt;dbl&gt; | Fever_37.3up &lt;dbl&gt; | Fever_38up &lt;dbl&gt; | Fever_39up &lt;dbl&gt; | Fever &lt;dbl&gt; | ⋯ ⋯ | Headache &lt;dbl&gt; | Nausea &lt;dbl&gt; | Diarrhea &lt;dbl&gt; | setting &lt;chr&gt; | Ethics &lt;chr&gt; | Date_first_time &lt;chr&gt; | Date_last &lt;dbl&gt; | age_mean &lt;chr&gt; | age_median &lt;chr&gt; | X27 &lt;chr&gt; |\n",
       "|---|---|---|---|---|---|---|---|---|---|---|---|---|---|---|---|---|---|---|---|---|---|\n",
       "| 1 | SRMA-20-1 | lo il, lio cf, cheong hh, et al.   | Evaluation of SARS‐CoV‐2 RNA shedding in clinical specimens and clinical characteristics of 10 patients with COVID‐19 in Macau. | NA | NA |  10 |  8 | NA | NA |   8 | ⋯ | NA |  5 | NA | Cohort              | Macau | 43851 | 43877 | NA | 54   | NA |\n",
       "| 2 | SRMA-20-3 | cai q, huang d, ou p.              | COVID‐19 in a designated infectious diseases\n",
       "hospital outside Hubei Province, China                                            | NA | NA | 298 | NA | NA | NA | 218 | ⋯ |  5 | NA |  9 | Cohort              | China | 43841 | 43867 | NA | 47.5 | NA |\n",
       "| 3 | SRMA-20-4 | chen d, li x, song q, et al.       | Assessment of hypokalemia and clinical\n",
       "characteristics in patients with coronavirus disease 2019 in Wenzhou,\n",
       "China            | NA | NA | 175 | NA | NA | NA |  71 | ⋯ | NA | NA | 35 | Cohort              | China | 43841 | 43876 | 45 | NA   | NA |\n",
       "| 4 | SRMA-20-5 | chen g, wu d, guo w, et al.        | Clinical and immunological features of\n",
       "severe and moderate coronavirus disease 2019                                            | NA | NA |  21 |  1 | 12 |  7 |  20 | ⋯ |  2 | NA |  4 | Cohort              | China | 43830 | 43857 | NA | 56   | NA |\n",
       "| 5 | SRMA-20-6 | chen j, qi t, liu l, et al.        | Clinical progression of patients with\n",
       "COVID‐19 in Shanghai, China.                                                             | NA | NA | 249 | NA | NA | NA | 217 | ⋯ | 28 | NA |  8 | single-center study | China | 43850 | 43867 | NA | 51   | NA |\n",
       "| 6 | SRMA-20-9 | chen s, prettner k, kuhn m, et al. | Caution: clinical characteristics of\n",
       "COVID‐19 patients are changing at admission                                               | NA | NA |  89 | NA | NA | NA |  40 | ⋯ | NA |  2 |  5 | Cohort              | China | 43846 | 43859 | 33 | NA   | NA |\n",
       "\n"
      ],
      "text/plain": [
       "  Study_ID  Author                            \n",
       "1 SRMA-20-1 lo il, lio cf, cheong hh, et al.  \n",
       "2 SRMA-20-3 cai q, huang d, ou p.             \n",
       "3 SRMA-20-4 chen d, li x, song q, et al.      \n",
       "4 SRMA-20-5 chen g, wu d, guo w, et al.       \n",
       "5 SRMA-20-6 chen j, qi t, liu l, et al.       \n",
       "6 SRMA-20-9 chen s, prettner k, kuhn m, et al.\n",
       "  Title                                                                                                                          \n",
       "1 Evaluation of SARS‐CoV‐2 RNA shedding in clinical specimens and clinical characteristics of 10 patients with COVID‐19 in Macau.\n",
       "2 COVID‐19 in a designated infectious diseases\\nhospital outside Hubei Province, China                                           \n",
       "3 Assessment of hypokalemia and clinical\\ncharacteristics in patients with coronavirus disease 2019 in Wenzhou,\\nChina           \n",
       "4 Clinical and immunological features of\\nsevere and moderate coronavirus disease 2019                                           \n",
       "5 Clinical progression of patients with\\nCOVID‐19 in Shanghai, China.                                                            \n",
       "6 Caution: clinical characteristics of\\nCOVID‐19 patients are changing at admission                                              \n",
       "  Exclude原因 其他原因(自填) observations Fever_37.3up Fever_38up Fever_39up\n",
       "1 NA          NA              10           8           NA         NA        \n",
       "2 NA          NA             298          NA           NA         NA        \n",
       "3 NA          NA             175          NA           NA         NA        \n",
       "4 NA          NA              21           1           12          7        \n",
       "5 NA          NA             249          NA           NA         NA        \n",
       "6 NA          NA              89          NA           NA         NA        \n",
       "  Fever ⋯ Headache Nausea Diarrhea setting             Ethics Date_first_time\n",
       "1   8   ⋯ NA        5     NA       Cohort              Macau  43851          \n",
       "2 218   ⋯  5       NA      9       Cohort              China  43841          \n",
       "3  71   ⋯ NA       NA     35       Cohort              China  43841          \n",
       "4  20   ⋯  2       NA      4       Cohort              China  43830          \n",
       "5 217   ⋯ 28       NA      8       single-center study China  43850          \n",
       "6  40   ⋯ NA        2      5       Cohort              China  43846          \n",
       "  Date_last age_mean age_median X27\n",
       "1 43877     NA       54         NA \n",
       "2 43867     NA       47.5       NA \n",
       "3 43876     45       NA         NA \n",
       "4 43857     NA       56         NA \n",
       "5 43867     NA       51         NA \n",
       "6 43859     33       NA         NA "
      ]
     },
     "metadata": {},
     "output_type": "display_data"
    }
   ],
   "source": [
    "## Read data into R\n",
    "mydata_symptoms=read.xlsx(\"COVID-19 unbrella update 20230411.xlsx\", 1) \n",
    "head(mydata_symptoms)"
   ]
  },
  {
   "cell_type": "code",
   "execution_count": 76,
   "metadata": {},
   "outputs": [
    {
     "data": {
      "text/html": [
       "<style>\n",
       ".list-inline {list-style: none; margin:0; padding: 0}\n",
       ".list-inline>li {display: inline-block}\n",
       ".list-inline>li:not(:last-child)::after {content: \"\\00b7\"; padding: 0 .5ex}\n",
       "</style>\n",
       "<ol class=list-inline><li>209</li><li>27</li></ol>\n"
      ],
      "text/latex": [
       "\\begin{enumerate*}\n",
       "\\item 209\n",
       "\\item 27\n",
       "\\end{enumerate*}\n"
      ],
      "text/markdown": [
       "1. 209\n",
       "2. 27\n",
       "\n",
       "\n"
      ],
      "text/plain": [
       "[1] 209  27"
      ]
     },
     "metadata": {},
     "output_type": "display_data"
    }
   ],
   "source": [
    "dim(mydata_symptoms)"
   ]
  },
  {
   "cell_type": "code",
   "execution_count": 21,
   "metadata": {},
   "outputs": [
    {
     "data": {
      "text/html": [
       "<style>\n",
       ".list-inline {list-style: none; margin:0; padding: 0}\n",
       ".list-inline>li {display: inline-block}\n",
       ".list-inline>li:not(:last-child)::after {content: \"\\00b7\"; padding: 0 .5ex}\n",
       "</style>\n",
       "<ol class=list-inline><li>'Study_ID'</li><li>'Author'</li><li>'Title'</li><li>'Exclude原因'</li><li>'其他原因(自填)'</li><li>'observations'</li><li>'Fever_37.3up'</li><li>'Fever_38up'</li><li>'Fever_39up'</li><li>'Fever'</li><li>'Cough'</li><li>'Sputumproduction'</li><li>'Sorethroat'</li><li>'Myalgia'</li><li>'Fatigue'</li><li>'Shortnessofbreath'</li><li>'Dyspnea'</li><li>'Headache'</li><li>'Nausea'</li><li>'Diarrhea'</li><li>'setting'</li><li>'Ethics'</li><li>'Date_first_time'</li><li>'Date_last'</li><li>'age_mean'</li><li>'age_median'</li><li>'X27'</li></ol>\n"
      ],
      "text/latex": [
       "\\begin{enumerate*}\n",
       "\\item 'Study\\_ID'\n",
       "\\item 'Author'\n",
       "\\item 'Title'\n",
       "\\item 'Exclude原因'\n",
       "\\item '其他原因(自填)'\n",
       "\\item 'observations'\n",
       "\\item 'Fever\\_37.3up'\n",
       "\\item 'Fever\\_38up'\n",
       "\\item 'Fever\\_39up'\n",
       "\\item 'Fever'\n",
       "\\item 'Cough'\n",
       "\\item 'Sputumproduction'\n",
       "\\item 'Sorethroat'\n",
       "\\item 'Myalgia'\n",
       "\\item 'Fatigue'\n",
       "\\item 'Shortnessofbreath'\n",
       "\\item 'Dyspnea'\n",
       "\\item 'Headache'\n",
       "\\item 'Nausea'\n",
       "\\item 'Diarrhea'\n",
       "\\item 'setting'\n",
       "\\item 'Ethics'\n",
       "\\item 'Date\\_first\\_time'\n",
       "\\item 'Date\\_last'\n",
       "\\item 'age\\_mean'\n",
       "\\item 'age\\_median'\n",
       "\\item 'X27'\n",
       "\\end{enumerate*}\n"
      ],
      "text/markdown": [
       "1. 'Study_ID'\n",
       "2. 'Author'\n",
       "3. 'Title'\n",
       "4. 'Exclude原因'\n",
       "5. '其他原因(自填)'\n",
       "6. 'observations'\n",
       "7. 'Fever_37.3up'\n",
       "8. 'Fever_38up'\n",
       "9. 'Fever_39up'\n",
       "10. 'Fever'\n",
       "11. 'Cough'\n",
       "12. 'Sputumproduction'\n",
       "13. 'Sorethroat'\n",
       "14. 'Myalgia'\n",
       "15. 'Fatigue'\n",
       "16. 'Shortnessofbreath'\n",
       "17. 'Dyspnea'\n",
       "18. 'Headache'\n",
       "19. 'Nausea'\n",
       "20. 'Diarrhea'\n",
       "21. 'setting'\n",
       "22. 'Ethics'\n",
       "23. 'Date_first_time'\n",
       "24. 'Date_last'\n",
       "25. 'age_mean'\n",
       "26. 'age_median'\n",
       "27. 'X27'\n",
       "\n",
       "\n"
      ],
      "text/plain": [
       " [1] \"Study_ID\"          \"Author\"            \"Title\"            \n",
       " [4] \"Exclude原因\"       \"其他原因(自填)\"    \"observations\"     \n",
       " [7] \"Fever_37.3up\"      \"Fever_38up\"        \"Fever_39up\"       \n",
       "[10] \"Fever\"             \"Cough\"             \"Sputumproduction\" \n",
       "[13] \"Sorethroat\"        \"Myalgia\"           \"Fatigue\"          \n",
       "[16] \"Shortnessofbreath\" \"Dyspnea\"           \"Headache\"         \n",
       "[19] \"Nausea\"            \"Diarrhea\"          \"setting\"          \n",
       "[22] \"Ethics\"            \"Date_first_time\"   \"Date_last\"        \n",
       "[25] \"age_mean\"          \"age_median\"        \"X27\"              "
      ]
     },
     "metadata": {},
     "output_type": "display_data"
    }
   ],
   "source": [
    "names(mydata_symptoms)"
   ]
  },
  {
   "cell_type": "code",
   "execution_count": 73,
   "metadata": {},
   "outputs": [
    {
     "name": "stdout",
     "output_type": "stream",
     "text": [
      "Please input the symptom that you want to synthesis: Myalgia\n"
     ]
    }
   ],
   "source": [
    "## Input the symptom that you want to synthesis\n",
    "symptom=readline('Please input the symptom that you want to synthesis: ')"
   ]
  },
  {
   "cell_type": "code",
   "execution_count": 74,
   "metadata": {},
   "outputs": [
    {
     "data": {
      "text/html": [
       "<table class=\"dataframe\">\n",
       "<caption>A data.frame: 6 × 4</caption>\n",
       "<thead>\n",
       "\t<tr><th></th><th scope=col>Study_ID</th><th scope=col>Myalgia</th><th scope=col>observations</th><th scope=col>setting</th></tr>\n",
       "\t<tr><th></th><th scope=col>&lt;chr&gt;</th><th scope=col>&lt;dbl&gt;</th><th scope=col>&lt;dbl&gt;</th><th scope=col>&lt;chr&gt;</th></tr>\n",
       "</thead>\n",
       "<tbody>\n",
       "\t<tr><th scope=row>1</th><td>SRMA-20-1 </td><td> 3</td><td> 10</td><td>Cohort</td></tr>\n",
       "\t<tr><th scope=row>3</th><td>SRMA-20-4 </td><td>41</td><td>175</td><td>Cohort</td></tr>\n",
       "\t<tr><th scope=row>4</th><td>SRMA-20-5 </td><td> 8</td><td> 21</td><td>Cohort</td></tr>\n",
       "\t<tr><th scope=row>6</th><td>SRMA-20-9 </td><td>10</td><td> 89</td><td>Cohort</td></tr>\n",
       "\t<tr><th scope=row>9</th><td>SRMA-20-12</td><td> 2</td><td> 73</td><td>Cohort</td></tr>\n",
       "\t<tr><th scope=row>10</th><td>SRMA-20-13</td><td> 6</td><td> 36</td><td>Cohort</td></tr>\n",
       "</tbody>\n",
       "</table>\n"
      ],
      "text/latex": [
       "A data.frame: 6 × 4\n",
       "\\begin{tabular}{r|llll}\n",
       "  & Study\\_ID & Myalgia & observations & setting\\\\\n",
       "  & <chr> & <dbl> & <dbl> & <chr>\\\\\n",
       "\\hline\n",
       "\t1 & SRMA-20-1  &  3 &  10 & Cohort\\\\\n",
       "\t3 & SRMA-20-4  & 41 & 175 & Cohort\\\\\n",
       "\t4 & SRMA-20-5  &  8 &  21 & Cohort\\\\\n",
       "\t6 & SRMA-20-9  & 10 &  89 & Cohort\\\\\n",
       "\t9 & SRMA-20-12 &  2 &  73 & Cohort\\\\\n",
       "\t10 & SRMA-20-13 &  6 &  36 & Cohort\\\\\n",
       "\\end{tabular}\n"
      ],
      "text/markdown": [
       "\n",
       "A data.frame: 6 × 4\n",
       "\n",
       "| <!--/--> | Study_ID &lt;chr&gt; | Myalgia &lt;dbl&gt; | observations &lt;dbl&gt; | setting &lt;chr&gt; |\n",
       "|---|---|---|---|---|\n",
       "| 1 | SRMA-20-1  |  3 |  10 | Cohort |\n",
       "| 3 | SRMA-20-4  | 41 | 175 | Cohort |\n",
       "| 4 | SRMA-20-5  |  8 |  21 | Cohort |\n",
       "| 6 | SRMA-20-9  | 10 |  89 | Cohort |\n",
       "| 9 | SRMA-20-12 |  2 |  73 | Cohort |\n",
       "| 10 | SRMA-20-13 |  6 |  36 | Cohort |\n",
       "\n"
      ],
      "text/plain": [
       "   Study_ID   Myalgia observations setting\n",
       "1  SRMA-20-1   3       10          Cohort \n",
       "3  SRMA-20-4  41      175          Cohort \n",
       "4  SRMA-20-5   8       21          Cohort \n",
       "6  SRMA-20-9  10       89          Cohort \n",
       "9  SRMA-20-12  2       73          Cohort \n",
       "10 SRMA-20-13  6       36          Cohort "
      ]
     },
     "metadata": {},
     "output_type": "display_data"
    }
   ],
   "source": [
    "#################################################\n",
    "###                 Overall                   ###\n",
    "#################################################\n",
    "\n",
    "## Prepare data for Meta-Analysis\n",
    "mydata=mydata_symptoms[,c(\"Study_ID\",paste(symptom),\"observations\",\"setting\")]\n",
    "mydata=mydata[which(mydata[,2]!=\"NA\"),]\n",
    "head(mydata)"
   ]
  },
  {
   "cell_type": "code",
   "execution_count": 75,
   "metadata": {
    "scrolled": false
   },
   "outputs": [
    {
     "data": {
      "text/plain": [
       "           proportion           95%-CI %W(common) %W(random)\n",
       "SRMA-20-1      0.3000 [0.0667; 0.6525]        0.0        0.8\n",
       "SRMA-20-4      0.2343 [0.1737; 0.3041]        0.7        1.1\n",
       "SRMA-20-5      0.3810 [0.1811; 0.6156]        0.1        0.9\n",
       "SRMA-20-9      0.1124 [0.0552; 0.1969]        0.3        1.1\n",
       "SRMA-20-12     0.0274 [0.0033; 0.0955]        0.3        1.1\n",
       "SRMA-20-13     0.1667 [0.0637; 0.3281]        0.1        1.0\n",
       "SRMA-20-17     0.1111 [0.0587; 0.1860]        0.4        1.1\n",
       "SRMA-20-19     0.1168 [0.0755; 0.1700]        0.7        1.1\n",
       "SRMA-20-21     0.1091 [0.0862; 0.1356]        2.5        1.2\n",
       "SRMA-20-22     0.1155 [0.0940; 0.1399]        3.0        1.2\n",
       "SRMA-20-24     0.1429 [0.0403; 0.3267]        0.1        1.0\n",
       "SRMA-20-25     0.3500 [0.1539; 0.5922]        0.1        0.9\n",
       "SRMA-20-26     0.2353 [0.0681; 0.4990]        0.1        0.9\n",
       "SRMA-20-33     0.0107 [0.0051; 0.0196]        3.5        1.2\n",
       "SRMA-20-34     0.3333 [0.0992; 0.6511]        0.0        0.8\n",
       "SRMA-20-36     0.2419 [0.1422; 0.3674]        0.2        1.1\n",
       "SRMA-20-37     0.3226 [0.2498; 0.4023]        0.6        1.1\n",
       "SRMA-20-38     0.0735 [0.0417; 0.1184]        0.8        1.1\n",
       "SRMA-20-43     0.2432 [0.1765; 0.3205]        0.6        1.1\n",
       "SRMA-20-45     0.3478 [0.2688; 0.4335]        0.5        1.1\n",
       "SRMA-20-46     0.4405 [0.3322; 0.5530]        0.3        1.1\n",
       "SRMA-20-47     0.2854 [0.2425; 0.3313]        1.6        1.2\n",
       "SRMA-20-48     0.2250 [0.1391; 0.3321]        0.3        1.1\n",
       "SRMA-20-49     0.1569 [0.0702; 0.2859]        0.2        1.1\n",
       "SRMA-20-52     0.1600 [0.0717; 0.2911]        0.2        1.1\n",
       "SRMA-20-56     0.1575 [0.0989; 0.2327]        0.5        1.1\n",
       "SRMA-20-60     0.1101 [0.0870; 0.1368]        2.4        1.2\n",
       "SRMA-20-62     0.1651 [0.1178; 0.2221]        0.8        1.1\n",
       "SRMA-20-66     0.1200 [0.0564; 0.2156]        0.3        1.1\n",
       "SRMA-20-67     0.1518 [0.1041; 0.2107]        0.7        1.1\n",
       "SRMA-21-1      0.1338 [0.1062; 0.1655]        2.0        1.2\n",
       "SRMA-21-2      0.3108 [0.2903; 0.3318]        7.4        1.2\n",
       "SRMA-21-4      0.3698 [0.3379; 0.4025]        3.3        1.2\n",
       "SRMA-21-7      0.0376 [0.0255; 0.0533]        3.0        1.2\n",
       "SRMA-21-8      0.2250 [0.1538; 0.3102]        0.5        1.1\n",
       "SRMA-21-13     0.0530 [0.0379; 0.0717]        2.8        1.2\n",
       "SRMA-21-24     0.4077 [0.3224; 0.4973]        0.5        1.1\n",
       "SRMA-21-26     0.2430 [0.1653; 0.3354]        0.4        1.1\n",
       "SRMA-21-29     0.1620 [0.1389; 0.1873]        3.5        1.2\n",
       "SRMA-21-31     0.0259 [0.0179; 0.0361]        4.8        1.2\n",
       "SRMA-21-34     0.2273 [0.1942; 0.2631]        2.2        1.2\n",
       "SRMA-21-39     0.0844 [0.0457; 0.1400]        0.6        1.1\n",
       "SRMA-21-40     0.0743 [0.0499; 0.1056]        1.4        1.2\n",
       "SRMA-10-3      0.3478 [0.2688; 0.4335]        0.5        1.1\n",
       "SRMA-10-8      0.3333 [0.0992; 0.6511]        0.0        0.8\n",
       "SRMA-10-11     0.2778 [0.1885; 0.3822]        0.3        1.1\n",
       "SRMA-10-19     0.1807 [0.1048; 0.2805]        0.3        1.1\n",
       "SRMA-11-15     0.2500 [0.1069; 0.4487]        0.1        1.0\n",
       "SRMA-12-5      0.2308 [0.0504; 0.5381]        0.1        0.8\n",
       "SRMA-12-16     0.1518 [0.1041; 0.2107]        0.7        1.1\n",
       "SRMA-12-23     0.3043 [0.1992; 0.4269]        0.3        1.1\n",
       "SRMA-12-25     0.3500 [0.1539; 0.5922]        0.1        0.9\n",
       "<NA>           0.1111 [0.0568; 0.1901]        0.4        1.1\n",
       "SRMA-12-29     0.3656 [0.2681; 0.4719]        0.4        1.1\n",
       "SRMA-12-30     0.3776 [0.2816; 0.4812]        0.4        1.1\n",
       "SRMA-12-34     0.2353 [0.1569; 0.3296]        0.4        1.1\n",
       "SRMA-13-29     0.0714 [0.0018; 0.3387]        0.1        0.8\n",
       "<NA>           0.1321 [0.0548; 0.2534]        0.2        1.1\n",
       "SRMA-15-2      0.3444 [0.2753; 0.4188]        0.7        1.1\n",
       "SRMA-15-12     0.7184 [0.6647; 0.7679]        1.2        1.2\n",
       "SRMA-15-13     0.6246 [0.5989; 0.6499]        5.4        1.2\n",
       "SRMA-15-28     0.2500 [0.1069; 0.4487]        0.1        1.0\n",
       "SRMA-15-43     0.0751 [0.0492; 0.1088]        1.3        1.2\n",
       "SRMA-15-49     0.0851 [0.0237; 0.2038]        0.2        1.0\n",
       "SRMA-15-50     0.1194 [0.0530; 0.2218]        0.3        1.1\n",
       "SRMA-15-60     0.1518 [0.1041; 0.2107]        0.7        1.1\n",
       "SRMA-15-66     0.0929 [0.0504; 0.1536]        0.5        1.1\n",
       "SRMA-1-9       0.1364 [0.0643; 0.2431]        0.3        1.1\n",
       "SRMA-1-13      0.3108 [0.2903; 0.3318]        7.4        1.2\n",
       "SRMA-1-18      0.3026 [0.2025; 0.4187]        0.3        1.1\n",
       "SRMA-1-20      0.8452 [0.8229; 0.8658]        4.3        1.2\n",
       "SRMA-1-22      0.4077 [0.3224; 0.4973]        0.5        1.1\n",
       "SRMA-1-24      0.0236 [0.0168; 0.0321]        6.2        1.2\n",
       "SRMA-1-25      0.1780 [0.1137; 0.2591]        0.4        1.1\n",
       "SRMA-1-27      0.3512 [0.2912; 0.4150]        0.9        1.1\n",
       "SRMA-1-28      0.3883 [0.2939; 0.4894]        0.4        1.1\n",
       "SRMA-1-30      0.4694 [0.3253; 0.6173]        0.2        1.1\n",
       "SRMA-1-42      0.0839 [0.0545; 0.1223]        1.1        1.1\n",
       "SRMA-1-43      0.1749 [0.1228; 0.2378]        0.7        1.1\n",
       "SRMA-1-59      0.2250 [0.1538; 0.3102]        0.5        1.1\n",
       "SRMA-1-66      0.5149 [0.4271; 0.6021]        0.5        1.1\n",
       "SRMA-2-10      0.6279 [0.5170; 0.7298]        0.3        1.1\n",
       "SRMA-2-30      0.0201 [0.0097; 0.0366]        1.9        1.2\n",
       "SRMA-2-35      0.1111 [0.0138; 0.3471]        0.1        0.9\n",
       "SRMA-2-51      0.5663 [0.4529; 0.6747]        0.3        1.1\n",
       "SRMA-2-52      0.8561 [0.7866; 0.9098]        0.5        1.1\n",
       "SRMA-2-54      0.6162 [0.5420; 0.6866]        0.7        1.1\n",
       "SRMA-2-77      0.2162 [0.0983; 0.3821]        0.1        1.0\n",
       "SRMA-2-84      0.1584 [0.0933; 0.2445]        0.4        1.1\n",
       "SRMA-2-88      0.7184 [0.6647; 0.7679]        1.2        1.2\n",
       "SRMA-3-15      0.1338 [0.1062; 0.1655]        2.0        1.2\n",
       "SRMA-6-13      0.2381 [0.0822; 0.4717]        0.1        0.9\n",
       "\n",
       "Number of studies combined: k = 92\n",
       "Number of observations: o = 26480\n",
       "Number of events: e = 6566\n",
       "\n",
       "                     proportion           95%-CI\n",
       "Common effect model      0.2132 [0.2081; 0.2182]\n",
       "Random effects model     0.2320 [0.1948; 0.2713]\n",
       "\n",
       "Quantifying heterogeneity:\n",
       " tau^2 = 0.0439 [0.0331; 0.0606]; tau = 0.2095 [0.1819; 0.2463]\n",
       " I^2 = 98.9% [98.8%; 98.9%]; H = 9.34 [8.99; 9.71]\n",
       "\n",
       "Test of heterogeneity:\n",
       "       Q d.f. p-value\n",
       " 7942.84   91       0\n",
       "\n",
       "Details on meta-analytical method:\n",
       "- Inverse variance method\n",
       "- Sidik-Jonkman estimator for tau^2\n",
       "- Q-Profile method for confidence interval of tau^2 and tau\n",
       "- Freeman-Tukey double arcsine transformation\n",
       "- Clopper-Pearson confidence interval for individual studies"
      ]
     },
     "metadata": {},
     "output_type": "display_data"
    }
   ],
   "source": [
    "## Meta-Analysis Of Single Proportions\n",
    "m_prop1 <- metaprop(mydata[,2], \n",
    "                    observations, \n",
    "                    Study_ID,\n",
    "                    data=mydata,\n",
    "                    sm=\"PFT\",\n",
    "                    method.tau = \"SJ\",\n",
    "                    comb.random=TRUE)\n",
    "summary(m_prop1)"
   ]
  },
  {
   "cell_type": "code",
   "execution_count": null,
   "metadata": {},
   "outputs": [],
   "source": []
  }
 ],
 "metadata": {
  "kernelspec": {
   "display_name": "R",
   "language": "R",
   "name": "ir"
  },
  "language_info": {
   "codemirror_mode": "r",
   "file_extension": ".r",
   "mimetype": "text/x-r-source",
   "name": "R",
   "pygments_lexer": "r",
   "version": "4.2.3"
  }
 },
 "nbformat": 4,
 "nbformat_minor": 2
}
